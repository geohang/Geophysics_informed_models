{
 "cells": [
  {
   "cell_type": "code",
   "execution_count": 1,
   "id": "12e2170a-bd76-4cdc-bf55-169319192b1d",
   "metadata": {},
   "outputs": [],
   "source": [
    "import pygimli as pg\n",
    "from pygimli.physics import TravelTimeManager\n",
    "import pygimli.physics.traveltime as tt\n",
    "import pygimli.meshtools as mt"
   ]
  },
  {
   "cell_type": "code",
   "execution_count": 3,
   "id": "96fd3019-62b3-4c0f-9fc2-5fc85b423b0b",
   "metadata": {},
   "outputs": [],
   "source": [
    "data = tt.load(\"L2.txt\")\n",
    "mgr = TravelTimeManager()\n",
    "\n",
    "\n",
    "#data.set('err',  mgr.estimateError(data['t'],errLevel=0.03))\n",
    "\n",
    "mesh=mgr.createMesh(data,quality=32,paraDX=0.05,paraMaxCellSize=32, paraBoundary=0.2\n",
    "                  ,paraDepth = 80,balanceDepth=False)\n"
   ]
  },
  {
   "cell_type": "code",
   "execution_count": null,
   "id": "c7c68967-619e-447e-b5f5-92a7ba919466",
   "metadata": {},
   "outputs": [],
   "source": [
    "mgr.setMesh(mesh)\n",
    "\n",
    "mgr.invert(data, vTop=500,vBottom=6000,lam=100,zWeight=0.5,\n",
    "          verbose=1,limits=[400., 8000.], useGradient=True,isReference=False)\n",
    "\n",
    "ax, cbar = mgr.showResult(logScale=True,cMap='jet',coverage=mgr.standardizedCoverage(),\n",
    "                         label='Velocity (m s$^{-1})$',xlabel='Distance (m)',\n",
    "                         ylabel='Elevation (m)')"
   ]
  }
 ],
 "metadata": {
  "kernelspec": {
   "display_name": "Python 3 (ipykernel)",
   "language": "python",
   "name": "python3"
  },
  "language_info": {
   "codemirror_mode": {
    "name": "ipython",
    "version": 3
   },
   "file_extension": ".py",
   "mimetype": "text/x-python",
   "name": "python",
   "nbconvert_exporter": "python",
   "pygments_lexer": "ipython3",
   "version": "3.8.15"
  }
 },
 "nbformat": 4,
 "nbformat_minor": 5
}
